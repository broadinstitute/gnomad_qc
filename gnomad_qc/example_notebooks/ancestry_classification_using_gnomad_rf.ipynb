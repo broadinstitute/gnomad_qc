{
 "cells": [
  {
   "cell_type": "markdown",
   "id": "937bdc10",
   "metadata": {},
   "source": [
    "# Example of using the gnomAD genetic ancestry principal components analysis loadings and random forest classifier"
   ]
  },
  {
   "cell_type": "markdown",
   "id": "35ee7995",
   "metadata": {},
   "source": [
    "Please read our [blog post](https://gnomad.broadinstitute.org/news/2021-09-using-the-gnomad-ancestry-principal-components-analysis-loadings-and-random-forest-classifier-on-your-dataset/) about important caveats to consider when using gnomAD ancestry principal components analysis (PCA) loadings and random forest classifier models on your own dataset."
   ]
  },
  {
   "cell_type": "markdown",
   "id": "51ef2bf0",
   "metadata": {
    "toc": true
   },
   "source": [
    "<h1>Table of Contents<span class=\"tocSkip\"></span></h1>\n",
    "<div class=\"toc\"><ul class=\"toc-item\"><li><span><a href=\"#Introduction\" data-toc-modified-id=\"Introduction-1\">Introduction</a></span></li><li><span><a href=\"#The-following-packages-are-required-for-this-example\" data-toc-modified-id=\"The-following-packages-are-required-for-this-example-2\">The following packages are required for this example</a></span></li><li><span><a href=\"#Imports\" data-toc-modified-id=\"Imports-3\">Imports</a></span></li><li><span><a href=\"#Data-Loading\" data-toc-modified-id=\"Data-Loading-4\">Data Loading</a></span><ul class=\"toc-item\"><li><span><a href=\"#Define-file-paths\" data-toc-modified-id=\"Define-file-paths-4.1\">Define file paths</a></span><ul class=\"toc-item\"><li><span><a href=\"#v3-example-paths\" data-toc-modified-id=\"v3-example-paths-4.1.1\">v3 example paths</a></span></li><li><span><a href=\"#v2-example-paths\" data-toc-modified-id=\"v2-example-paths-4.1.2\">v2 example paths</a></span></li></ul></li><li><span><a href=\"#Define-the-number-of-PCs-used-for-v2-and-v3-genetic-ancestry-group-classification\" data-toc-modified-id=\"Define-the-number-of-PCs-used-for-v2-and-v3-genetic-ancestry-group-classification-4.2\">Define the number of PCs used for v2 and v3 genetic ancestry group classification</a></span></li><li><span><a href=\"#Define-the-RF-minimum-probability-used-for-v2-and-v3-genetic-ancestry-group-classification\" data-toc-modified-id=\"Define-the-RF-minimum-probability-used-for-v2-and-v3-genetic-ancestry-group-classification-4.3\">Define the RF minimum probability used for v2 and v3 genetic ancestry group classification</a></span></li><li><span><a href=\"#Load-ONNX-models\" data-toc-modified-id=\"Load-ONNX-models-4.4\">Load ONNX models</a></span></li><li><span><a href=\"#Load-gnomAD-v3.1-loadings-Hail-Table-and-the-VariantDataset-to-apply-projection-and-genetic-ancestry-group-assignment-to\" data-toc-modified-id=\"Load-gnomAD-v3.1-loadings-Hail-Table-and-the-VariantDataset-to-apply-projection-and-genetic-ancestry-group-assignment-to-4.5\">Load gnomAD v3.1 loadings Hail Table and the VariantDataset to apply projection and genetic ancestry group assignment to</a></span></li><li><span><a href=\"#Load-gnomAD-v2.1-precomputed-v2-PCA-scores\" data-toc-modified-id=\"Load-gnomAD-v2.1-precomputed-v2-PCA-scores-4.6\">Load gnomAD v2.1 precomputed v2 PCA scores</a></span></li></ul></li><li><span><a href=\"#Perform-PC-projection-using-the-v3.1-PCA-loadings\" data-toc-modified-id=\"Perform-PC-projection-using-the-v3.1-PCA-loadings-5\">Perform PC projection using the v3.1 PCA loadings</a></span><ul class=\"toc-item\"><li><span><a href=\"#Create-dense-MatrixTable-of-only-the-variants-found-in-the-loadings-Table\" data-toc-modified-id=\"Create-dense-MatrixTable-of-only-the-variants-found-in-the-loadings-Table-5.1\">Create dense MatrixTable of only the variants found in the loadings Table</a></span></li><li><span><a href=\"#We-recommend-filtering-to-entries-meeting-GQ,-DP-and-het-AB-'adj'-thresholds\" data-toc-modified-id=\"We-recommend-filtering-to-entries-meeting-GQ,-DP-and-het-AB-'adj'-thresholds-5.2\">We recommend filtering to entries meeting GQ, DP and het AB 'adj' thresholds</a></span></li><li><span><a href=\"#Checkpoint-dense-MT-for-PC-projection\" data-toc-modified-id=\"Checkpoint-dense-MT-for-PC-projection-5.3\">Checkpoint dense MT for PC projection</a></span></li><li><span><a href=\"#Project-test-dataset-genotypes-onto-gnomAD-v3.1-loadings-and-checkpoint-the-scores\" data-toc-modified-id=\"Project-test-dataset-genotypes-onto-gnomAD-v3.1-loadings-and-checkpoint-the-scores-5.4\">Project test dataset genotypes onto gnomAD v3.1 loadings and checkpoint the scores</a></span></li></ul></li><li><span><a href=\"#Assign-genetic-ancestry-group-using-ONNX-RF-model\" data-toc-modified-id=\"Assign-genetic-ancestry-group-using-ONNX-RF-model-6\">Assign genetic ancestry group using ONNX RF model</a></span><ul class=\"toc-item\"><li><span><a href=\"#v3.1-RF-model\" data-toc-modified-id=\"v3.1-RF-model-6.1\">v3.1 RF model</a></span></li><li><span><a href=\"#v2.1-RF-model\" data-toc-modified-id=\"v2.1-RF-model-6.2\">v2.1 RF model</a></span></li></ul></li></ul></div>"
   ]
  },
  {
   "cell_type": "markdown",
   "id": "a26beda1",
   "metadata": {},
   "source": [
    "## Introduction"
   ]
  },
  {
   "cell_type": "markdown",
   "id": "9ec7129f",
   "metadata": {},
   "source": [
    "In this notebook, we show examples for how to use the gnomAD genetic ancestry PCA loadings and random forest (RF) classifiers.\n",
    "- For the example using the [v3 release files](https://gnomad.broadinstitute.org/downloads#v3-ancestry-classification), we assign the genetic ancestry for a test dataset of gnomAD v4 using the v3.1 PCA loadings and the v3.1 ONNX formatted RF model. \n",
    "  - We start with the test dataset in raw VariantDataset (VDS) format and reduce it to only variants with v3.1 loading info using the following steps:\n",
    "      - Split multiallelic variants.\n",
    "      - Filter to variants found in the v3.1 loadings HailTable (HT).\n",
    "      - Densify the VDS to a MatrixTable (MT).\n",
    "      - Filter the MT to high quality genotypes (GQ >= 20; DP >= 10; and AB >= 0.2 for het calls).\n",
    "  - Then, project the genotypes onto v3.1 PCs using the v3.1 loadings HT.\n",
    "  - Assign the genetic ancestry using the v3.1 ONNX formatted RF model.\n",
    "  - **NOTE: the reference genome for the v3.1 loadings HT is GRCh38.**\n",
    "- For the example using the [v2 release files](https://gnomad.broadinstitute.org/downloads#v2-ancestry-classification), we use our precomputed v2.1 PCA scores to assign the genetic ancestry of the v2 samples with the v2.1 ONNX formatted RF model. \n",
    "   - For use on your own data, you can use the same process as shown for v3.1 to obtain the projected PCs. \n",
    "   - **NOTE: the reference genome for the v2.1 loadings HT is GRCh37.**"
   ]
  },
  {
   "cell_type": "markdown",
   "id": "aef2c5e7",
   "metadata": {},
   "source": [
    "## The following packages are required for this example"
   ]
  },
  {
   "cell_type": "code",
   "execution_count": 1,
   "id": "0fe5e995",
   "metadata": {
    "scrolled": true
   },
   "outputs": [
    {
     "name": "stdout",
     "output_type": "stream",
     "text": [
      "Requirement already satisfied: onnxruntime in /opt/conda/miniconda3/lib/python3.10/site-packages (1.15.1)\n",
      "Requirement already satisfied: onnx in /opt/conda/miniconda3/lib/python3.10/site-packages (1.14.0)\n",
      "Requirement already satisfied: numpy>=1.21.6 in /opt/conda/miniconda3/lib/python3.10/site-packages (from onnxruntime) (1.24.3)\n",
      "Requirement already satisfied: sympy in /opt/conda/miniconda3/lib/python3.10/site-packages (from onnxruntime) (1.10.1)\n",
      "Requirement already satisfied: coloredlogs in /opt/conda/miniconda3/lib/python3.10/site-packages (from onnxruntime) (15.0.1)\n",
      "Requirement already satisfied: protobuf in /opt/conda/miniconda3/lib/python3.10/site-packages (from onnxruntime) (3.20.2)\n",
      "Requirement already satisfied: packaging in /opt/conda/miniconda3/lib/python3.10/site-packages (from onnxruntime) (23.1)\n",
      "Requirement already satisfied: flatbuffers in /opt/conda/miniconda3/lib/python3.10/site-packages (from onnxruntime) (23.5.26)\n",
      "Requirement already satisfied: typing-extensions>=3.6.2.1 in /opt/conda/miniconda3/lib/python3.10/site-packages (from onnx) (4.6.3)\n",
      "Requirement already satisfied: humanfriendly>=9.1 in /opt/conda/miniconda3/lib/python3.10/site-packages (from coloredlogs->onnxruntime) (10.0)\n",
      "Requirement already satisfied: mpmath>=0.19 in /opt/conda/miniconda3/lib/python3.10/site-packages (from sympy->onnxruntime) (1.2.1)\n",
      "\u001b[33mWARNING: Running pip as the 'root' user can result in broken permissions and conflicting behaviour with the system package manager. It is recommended to use a virtual environment instead: https://pip.pypa.io/warnings/venv\u001b[0m\u001b[33m\n",
      "\u001b[0m"
     ]
    }
   ],
   "source": [
    "!/opt/conda/default/bin/pip install onnxruntime onnx"
   ]
  },
  {
   "cell_type": "markdown",
   "id": "5e4ea3b2",
   "metadata": {},
   "source": [
    "## Imports"
   ]
  },
  {
   "cell_type": "code",
   "execution_count": 2,
   "id": "bea1ab23",
   "metadata": {},
   "outputs": [],
   "source": [
    "import onnx\n",
    "import hail as hl\n",
    "from gnomad.sample_qc.ancestry import (\n",
    "    apply_onnx_classification_model,\n",
    "    assign_population_pcs,\n",
    ")\n",
    "from gnomad.utils.filtering import filter_to_adj\n",
    "\n",
    "from gnomad_qc.v2.resources.basics import get_gnomad_meta\n",
    "from gnomad_qc.v4.resources.basics import get_checkpoint_path"
   ]
  },
  {
   "cell_type": "markdown",
   "id": "c9ea16e0",
   "metadata": {},
   "source": [
    "## Data Loading"
   ]
  },
  {
   "cell_type": "code",
   "execution_count": 3,
   "id": "b0152c16",
   "metadata": {},
   "outputs": [],
   "source": [
    "read_if_exists = True"
   ]
  },
  {
   "cell_type": "markdown",
   "id": "c18e27a6",
   "metadata": {},
   "source": [
    "### Define file paths"
   ]
  },
  {
   "cell_type": "markdown",
   "id": "e3bbf9cb",
   "metadata": {},
   "source": [
    "#### v3 example paths"
   ]
  },
  {
   "cell_type": "code",
   "execution_count": 4,
   "id": "e0b8e90f",
   "metadata": {},
   "outputs": [],
   "source": [
    "# v3.1 PCA loadings.\n",
    "gnomad_v3_loadings = (\n",
    "    \"gs://gcp-public-data--gnomad/release/3.1/pca/gnomad.v3.1.pca_loadings.ht\"\n",
    ")\n",
    "\n",
    "# v3.1 ONNX RF model.\n",
    "gnomad_v3_onnx_rf = (\n",
    "    \"gs://gcp-public-data--gnomad/release/3.1/pca/gnomad.v3.1.RF_fit.onnx\"\n",
    ")\n",
    "\n",
    "# Test dataset to apply projection and genetic ancestry group assignment to.\n",
    "# This will be the path to your dataset VDS.\n",
    "vds_to_project = \"gs://gnomad/v4.0/raw/exomes/testing/gnomad_v4.0_test.vds\"\n",
    "\n",
    "# v3.1 output paths.\n",
    "test_mt_output_path = get_checkpoint_path(\"example_gnomad_v3.1_ancestry_rf\", mt=True)\n",
    "test_scores_output_path = get_checkpoint_path(\"example_gnomad_v3.1_ancestry_rf.scores\")\n",
    "gnomad_v3_assignment_path = get_checkpoint_path(\n",
    "    \"example_gnomad_v3.1_ancestry_rf.assignment\"\n",
    ")"
   ]
  },
  {
   "cell_type": "markdown",
   "id": "16c11245",
   "metadata": {},
   "source": [
    "#### v2 example paths"
   ]
  },
  {
   "cell_type": "code",
   "execution_count": 5,
   "id": "f67a7886",
   "metadata": {},
   "outputs": [],
   "source": [
    "# v2.1 ONNX RF model.\n",
    "gnomad_v2_onnx_rf = (\n",
    "    \"gs://gcp-public-data--gnomad/release/2.1/pca/gnomad.r2.1.RF_fit.onnx\"\n",
    ")\n",
    "\n",
    "# v2.1 output path.\n",
    "gnomad_v2_assignment_path = get_checkpoint_path(\n",
    "    \"example_gnomad_v2.1_ancestry_rf.assignment\"\n",
    ")"
   ]
  },
  {
   "cell_type": "markdown",
   "id": "0c525b37",
   "metadata": {},
   "source": [
    "### Define the number of PCs used for v2 and v3 genetic ancestry group classification"
   ]
  },
  {
   "cell_type": "code",
   "execution_count": 6,
   "id": "6757ed6c",
   "metadata": {},
   "outputs": [],
   "source": [
    "v3_num_pcs = 16\n",
    "v2_num_pcs = 6"
   ]
  },
  {
   "cell_type": "markdown",
   "id": "c372a7e5",
   "metadata": {},
   "source": [
    "### Define the RF minimum probability used for v2 and v3 genetic ancestry group classification"
   ]
  },
  {
   "cell_type": "code",
   "execution_count": 7,
   "id": "738ff429",
   "metadata": {},
   "outputs": [],
   "source": [
    "v3_min_prob = 0.75\n",
    "v2_min_prob = 0.9"
   ]
  },
  {
   "cell_type": "markdown",
   "id": "fda56a0f",
   "metadata": {},
   "source": [
    "### Load ONNX models"
   ]
  },
  {
   "cell_type": "code",
   "execution_count": 8,
   "id": "2c963026",
   "metadata": {},
   "outputs": [
    {
     "name": "stderr",
     "output_type": "stream",
     "text": [
      "Initializing Hail with default parameters...\n",
      "/opt/conda/miniconda3/lib/python3.10/site-packages/hailtop/aiocloud/aiogoogle/user_config.py:43: UserWarning: Reading spark-defaults.conf to determine GCS requester pays configuration. This is deprecated. Please use `hailctl config set gcs_requester_pays/project` and `hailctl config set gcs_requester_pays/buckets`.\n",
      "  warnings.warn(\n",
      "Setting default log level to \"WARN\".\n",
      "To adjust logging level use sc.setLogLevel(newLevel). For SparkR, use setLogLevel(newLevel).\n"
     ]
    },
    {
     "name": "stdout",
     "output_type": "stream",
     "text": [
      "SPARKMONITOR_LISTENER: Started SparkListener for Jupyter Notebook\n",
      "SPARKMONITOR_LISTENER: Port obtained from environment: 48881\n",
      "SPARKMONITOR_LISTENER: Application Started: application_1689694192778_0002 ...Start Time: 1689696515125\n"
     ]
    },
    {
     "name": "stderr",
     "output_type": "stream",
     "text": [
      "Running on Apache Spark version 3.3.0\n",
      "SparkUI available at http://jg1-m.c.broad-mpg-gnomad.internal:40497\n",
      "Welcome to\n",
      "     __  __     <>__\n",
      "    / /_/ /__  __/ /\n",
      "   / __  / _ `/ / /\n",
      "  /_/ /_/\\_,_/_/_/   version 0.2.119-ca0ff87b1687\n",
      "LOGGING: writing to /home/hail/hail-20230718-1608-0.2.119-ca0ff87b1687.log\n"
     ]
    }
   ],
   "source": [
    "with hl.hadoop_open(gnomad_v2_onnx_rf, \"rb\") as f:\n",
    "    v2_onx_fit = onnx.load(f)\n",
    "\n",
    "with hl.hadoop_open(gnomad_v3_onnx_rf, \"rb\") as f:\n",
    "    v3_onx_fit = onnx.load(f)"
   ]
  },
  {
   "cell_type": "markdown",
   "id": "ffeb6ef0",
   "metadata": {},
   "source": [
    "### Load gnomAD v3.1 loadings Hail Table and the VariantDataset to apply projection and genetic ancestry group assignment to"
   ]
  },
  {
   "cell_type": "code",
   "execution_count": 9,
   "id": "8add7d79",
   "metadata": {},
   "outputs": [
    {
     "name": "stderr",
     "output_type": "stream",
     "text": [
      "2023-07-18 16:09:20.033 Hail: WARN: You are reading a VDS written with an older version of Hail.\n",
      "  Hail now supports much faster interval filters on VDS, but you'll need to run either\n",
      "  `hl.vds.truncate_reference_blocks(vds, ...)` and write a copy (see docs) or patch the\n",
      "  existing VDS in place with `hl.vds.store_ref_block_max_length(vds_path)`.\n"
     ]
    }
   ],
   "source": [
    "vds = hl.vds.read_vds(vds_to_project)\n",
    "v3_loading_ht = hl.read_table(gnomad_v3_loadings)"
   ]
  },
  {
   "cell_type": "markdown",
   "id": "51611ae2",
   "metadata": {},
   "source": [
    "### Load gnomAD v2.1 precomputed v2 PCA scores"
   ]
  },
  {
   "cell_type": "markdown",
   "id": "9fee5fa7",
   "metadata": {},
   "source": [
    "As mentioned above, the v2 example will use our precomputed v2 PCA scores."
   ]
  },
  {
   "cell_type": "code",
   "execution_count": 10,
   "id": "66135335",
   "metadata": {},
   "outputs": [],
   "source": [
    "v2_meta_ht = get_gnomad_meta(\"exomes\", full_meta=True)\n",
    "v2_pcs_ht = v2_meta_ht.select(\n",
    "    scores=hl.array([v2_meta_ht[f\"PC{pc+1}\"] for pc in range(v2_num_pcs)])\n",
    ").select_globals()\n",
    "v2_pcs_ht = v2_pcs_ht.filter(hl.is_defined(v2_pcs_ht.scores[0]))"
   ]
  },
  {
   "cell_type": "markdown",
   "id": "efd8d86c",
   "metadata": {},
   "source": [
    "## Perform PC projection using the v3.1 PCA loadings"
   ]
  },
  {
   "cell_type": "markdown",
   "id": "40f03ecc",
   "metadata": {},
   "source": [
    "### Create dense MatrixTable of only the variants found in the loadings Table"
   ]
  },
  {
   "cell_type": "code",
   "execution_count": 11,
   "id": "b4980f22",
   "metadata": {},
   "outputs": [],
   "source": [
    "# Reduce variant data to only annotations needed for split and densify.\n",
    "# This includes annotations needed for our standard genotype filter ('adj').\n",
    "vds = hl.vds.VariantDataset(\n",
    "    vds.reference_data, vds.variant_data.select_entries(\"LA\", \"LGT\", \"GQ\", \"DP\", \"LAD\")\n",
    ")\n",
    "\n",
    "# Split multiallelics.\n",
    "vds = hl.vds.split_multi(vds, filter_changed_loci=True)\n",
    "\n",
    "# Filter to variants in the loadings Table.\n",
    "vds = hl.vds.filter_variants(vds, v3_loading_ht)\n",
    "\n",
    "# Densify VDS.\n",
    "mt = hl.vds.to_dense_mt(vds)"
   ]
  },
  {
   "cell_type": "markdown",
   "id": "337201c8",
   "metadata": {},
   "source": [
    "### We recommend filtering to entries meeting GQ, DP and het AB 'adj' thresholds"
   ]
  },
  {
   "cell_type": "code",
   "execution_count": 12,
   "id": "00c12f4a",
   "metadata": {},
   "outputs": [],
   "source": [
    "mt = filter_to_adj(mt)"
   ]
  },
  {
   "cell_type": "markdown",
   "id": "265cd3b4",
   "metadata": {},
   "source": [
    "### Checkpoint dense MT for PC projection"
   ]
  },
  {
   "cell_type": "code",
   "execution_count": 13,
   "id": "d0785121",
   "metadata": {},
   "outputs": [],
   "source": [
    "mt = mt.checkpoint(\n",
    "    test_mt_output_path, overwrite=not read_if_exists, _read_if_exists=read_if_exists\n",
    ")"
   ]
  },
  {
   "cell_type": "markdown",
   "id": "a14d94f9",
   "metadata": {},
   "source": [
    "### Project test dataset genotypes onto gnomAD v3.1 loadings and checkpoint the scores"
   ]
  },
  {
   "cell_type": "code",
   "execution_count": 14,
   "id": "3f7bd6c4",
   "metadata": {},
   "outputs": [
    {
     "name": "stderr",
     "output_type": "stream",
     "text": [
      "2023-07-18 16:09:26.455 Hail: WARN: cols(): Resulting column table is sorted by 'col_key'.\n",
      "    To preserve matrix table column order, first unkey columns with 'key_cols_by()'\n"
     ]
    }
   ],
   "source": [
    "# Project new genotypes onto loadings.\n",
    "v3_pcs_ht = hl.experimental.pc_project(\n",
    "    mt.GT,\n",
    "    v3_loading_ht.loadings,\n",
    "    v3_loading_ht.pca_af,\n",
    ")\n",
    "\n",
    "# Checkpoint PC projection results.\n",
    "v3_pcs_ht = v3_pcs_ht.checkpoint(\n",
    "    test_scores_output_path,\n",
    "    overwrite=not read_if_exists,\n",
    "    _read_if_exists=read_if_exists,\n",
    ")"
   ]
  },
  {
   "cell_type": "markdown",
   "id": "308a216e",
   "metadata": {},
   "source": [
    "## Assign genetic ancestry group using ONNX RF model"
   ]
  },
  {
   "cell_type": "markdown",
   "id": "5ff70686",
   "metadata": {},
   "source": [
    "### v3.1 RF model"
   ]
  },
  {
   "cell_type": "code",
   "execution_count": 15,
   "id": "a0301f15",
   "metadata": {},
   "outputs": [
    {
     "name": "stderr",
     "output_type": "stream",
     "text": [
      "INFO (gnomad.sample_qc.ancestry 369): Found the following sample count after population assignment: nfe: 378, oth: 32, afr: 28, amr: 60, eas: 42, sas: 49, asj: 25, fin: 35\n",
      "[Stage 2:=========================================================(16 + 1) / 16]\r"
     ]
    },
    {
     "data": {
      "text/plain": [
       "{'afr': 28,\n",
       " 'amr': 60,\n",
       " 'asj': 25,\n",
       " 'eas': 42,\n",
       " 'fin': 35,\n",
       " 'nfe': 378,\n",
       " 'oth': 32,\n",
       " 'sas': 49}"
      ]
     },
     "execution_count": 15,
     "metadata": {},
     "output_type": "execute_result"
    }
   ],
   "source": [
    "ht, model = assign_population_pcs(\n",
    "    v3_pcs_ht,\n",
    "    pc_cols=v3_pcs_ht.scores[:v3_num_pcs],\n",
    "    fit=v3_onx_fit,\n",
    "    min_prob=v3_min_prob,\n",
    "    apply_model_func=apply_onnx_classification_model,\n",
    ")\n",
    "ht = ht.checkpoint(\n",
    "    gnomad_v3_assignment_path,\n",
    "    overwrite=not read_if_exists,\n",
    "    _read_if_exists=read_if_exists,\n",
    ")\n",
    "\n",
    "ht.aggregate(hl.agg.counter(ht.pop))"
   ]
  },
  {
   "cell_type": "markdown",
   "id": "b9e1691f",
   "metadata": {},
   "source": [
    "### v2.1 RF model"
   ]
  },
  {
   "cell_type": "code",
   "execution_count": 16,
   "id": "77c6b7ba",
   "metadata": {},
   "outputs": [
    {
     "name": "stderr",
     "output_type": "stream",
     "text": [
      "INFO (gnomad.sample_qc.ancestry 369): Found the following sample count after population assignment: fin: 14181, nfe: 74477, oth: 4631, amr: 21237, eas: 11842, sas: 17305, afr: 10425, asj: 5968\n",
      "[Stage 5:==========================================>              (12 + 4) / 16]\r"
     ]
    },
    {
     "data": {
      "text/plain": [
       "{'afr': 10425,\n",
       " 'amr': 21237,\n",
       " 'asj': 5968,\n",
       " 'eas': 11842,\n",
       " 'fin': 14181,\n",
       " 'nfe': 74477,\n",
       " 'oth': 4631,\n",
       " 'sas': 17305}"
      ]
     },
     "execution_count": 16,
     "metadata": {},
     "output_type": "execute_result"
    }
   ],
   "source": [
    "ht, model = assign_population_pcs(\n",
    "    v2_pcs_ht,\n",
    "    pc_cols=v2_pcs_ht.scores,\n",
    "    fit=v2_onx_fit,\n",
    "    min_prob=v2_min_prob,\n",
    "    apply_model_func=apply_onnx_classification_model,\n",
    ")\n",
    "ht = ht.checkpoint(\n",
    "    gnomad_v2_assignment_path,\n",
    "    overwrite=not read_if_exists,\n",
    "    _read_if_exists=read_if_exists,\n",
    ")\n",
    "\n",
    "ht.aggregate(hl.agg.counter(ht.pop))"
   ]
  }
 ],
 "metadata": {
  "kernelspec": {
   "display_name": "Hail",
   "language": "python",
   "name": "hail"
  },
  "language_info": {
   "codemirror_mode": {
    "name": "ipython",
    "version": 3
   },
   "file_extension": ".py",
   "mimetype": "text/x-python",
   "name": "python",
   "nbconvert_exporter": "python",
   "pygments_lexer": "ipython3",
   "version": "3.10.8"
  },
  "toc": {
   "base_numbering": 1,
   "nav_menu": {},
   "number_sections": false,
   "sideBar": true,
   "skip_h1_title": true,
   "title_cell": "Table of Contents",
   "title_sidebar": "Contents",
   "toc_cell": true,
   "toc_position": {
    "height": "calc(100% - 180px)",
    "left": "10px",
    "top": "150px",
    "width": "261.633px"
   },
   "toc_section_display": true,
   "toc_window_display": true
  },
  "widgets": {
   "application/vnd.jupyter.widget-state+json": {
    "state": {},
    "version_major": 2,
    "version_minor": 0
   }
  }
 },
 "nbformat": 4,
 "nbformat_minor": 5
}
